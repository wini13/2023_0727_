{
 "cells": [
  {
   "cell_type": "code",
   "execution_count": null,
   "metadata": {},
   "outputs": [],
   "source": [
    "import random\n",
    "def getScore():\n",
    "    score=[]\n",
    "    for i in range(5):\n",
    "        score.append(random.randint(50,100))\n",
    "    return score\n",
    "\n",
    "number = int(input(\"請輸入學生數:\"))\n",
    "with open(\"names.txt\",encoding=\"utf-8\",newline='') as file:\n",
    "        names_str=file.read()\n",
    "        names_list=names_str.split(sep=\"\\n\")\n",
    "        name=random.choices(names_list,k=number)\n",
    "student=[]\n",
    "for i in range(number):\n",
    "    score=getScore()\n",
    "    score=[name[i]]+score\n",
    "    student.append(score)\n",
    "student"
   ]
  },
  {
   "cell_type": "code",
   "execution_count": 20,
   "metadata": {},
   "outputs": [
    {
     "data": {
      "text/plain": [
       "[['張韋成', 55, 82, 52, 92, 68],\n",
       " ['黃靜怡', 93, 92, 89, 79, 55],\n",
       " ['方筠紹', 62, 53, 83, 69, 94],\n",
       " ['聶心怡', 77, 74, 100, 83, 78],\n",
       " ['王士銘', 75, 64, 82, 97, 78],\n",
       " ['藍姿婷', 67, 95, 60, 72, 68],\n",
       " ['梁柏宇', 52, 63, 74, 55, 64],\n",
       " ['黃佩芬', 94, 93, 69, 62, 83],\n",
       " ['洪奎夫', 75, 54, 53, 57, 62],\n",
       " ['景歡燦', 57, 98, 65, 94, 91],\n",
       " ['張軒宸', 91, 85, 100, 89, 68],\n",
       " ['高智超', 87, 51, 51, 84, 53]]"
      ]
     },
     "execution_count": 20,
     "metadata": {},
     "output_type": "execute_result"
    }
   ],
   "source": [
    "import random\n",
    "def getScore():\n",
    "    score=[]\n",
    "    for i in range(5):\n",
    "        score.append(random.randint(50,100))\n",
    "    return score\n",
    "\n",
    "def get_name(number):\n",
    "    with open(\"names.txt\",encoding=\"utf-8\",newline='') as file:\n",
    "        names_str=file.read()\n",
    "        names_list=names_str.split(sep=\"\\n\")\n",
    "        name=random.choices(names_list,k=number)\n",
    "    return name\n",
    "\n",
    "number = int(input(\"請輸入學生數:\"))\n",
    "name = get_name(number)\n",
    "student=[]\n",
    "for i in range(number):\n",
    "    score=getScore()\n",
    "    score=[name[i]]+score\n",
    "    student.append(score)\n",
    "student"
   ]
  }
 ],
 "metadata": {
  "kernelspec": {
   "display_name": "Python 3",
   "language": "python",
   "name": "python3"
  },
  "language_info": {
   "codemirror_mode": {
    "name": "ipython",
    "version": 3
   },
   "file_extension": ".py",
   "mimetype": "text/x-python",
   "name": "python",
   "nbconvert_exporter": "python",
   "pygments_lexer": "ipython3",
   "version": "3.10.12"
  },
  "orig_nbformat": 4
 },
 "nbformat": 4,
 "nbformat_minor": 2
}
