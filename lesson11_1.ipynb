{
 "cells": [
  {
   "cell_type": "code",
   "execution_count": 4,
   "metadata": {},
   "outputs": [
    {
     "data": {
      "text/plain": [
       "[[50, 55, 86, 91, 58],\n",
       " [68, 74, 67, 57, 97],\n",
       " [82, 63, 99, 88, 92],\n",
       " [70, 60, 73, 57, 91],\n",
       " [68, 67, 83, 75, 67]]"
      ]
     },
     "execution_count": 4,
     "metadata": {},
     "output_type": "execute_result"
    }
   ],
   "source": [
    "import random\n",
    "def getScore():\n",
    "    score=[]\n",
    "    for i in range(5):\n",
    "        score.append(random.randint(50,100))\n",
    "    return score\n",
    "\n",
    "number = int(input(\"請輸入學生數:\"))\n",
    "student=[]\n",
    "for _ in range(number):\n",
    "    score=getScore()\n",
    "    student.append(score)\n",
    "student"
   ]
  }
 ],
 "metadata": {
  "kernelspec": {
   "display_name": "Python 3",
   "language": "python",
   "name": "python3"
  },
  "language_info": {
   "codemirror_mode": {
    "name": "ipython",
    "version": 3
   },
   "file_extension": ".py",
   "mimetype": "text/x-python",
   "name": "python",
   "nbconvert_exporter": "python",
   "pygments_lexer": "ipython3",
   "version": "3.10.12"
  },
  "orig_nbformat": 4
 },
 "nbformat": 4,
 "nbformat_minor": 2
}
