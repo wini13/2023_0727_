{
 "cells": [
  {
   "cell_type": "code",
   "execution_count": 18,
   "metadata": {},
   "outputs": [
    {
     "data": {
      "text/plain": [
       "[['黃翔杰', 61, 91, 69, 59, 76],\n",
       " ['陳倩潔', 96, 86, 95, 72, 79],\n",
       " ['謝南慧', 75, 65, 83, 61, 85],\n",
       " ['張彥博', 67, 53, 75, 59, 56],\n",
       " ['陳怡伶', 50, 85, 81, 100, 81],\n",
       " ['李立偉', 78, 82, 74, 95, 65],\n",
       " ['羅幸娥', 86, 82, 64, 50, 85],\n",
       " ['潘俊賢', 81, 99, 55, 75, 83],\n",
       " ['陳建豪', 85, 94, 81, 97, 69],\n",
       " ['楊易政', 74, 58, 93, 55, 92],\n",
       " ['林群清', 69, 88, 89, 78, 99],\n",
       " ['黃婷婷', 92, 97, 88, 72, 86],\n",
       " ['劉嘉泰', 86, 57, 89, 84, 99],\n",
       " ['陳得映', 67, 51, 53, 92, 92],\n",
       " ['張軒宸', 98, 100, 63, 72, 60],\n",
       " ['陳嘉淑', 100, 52, 53, 54, 60],\n",
       " ['蔡世馨', 80, 96, 56, 51, 62],\n",
       " ['呂傑宣', 75, 65, 71, 96, 85],\n",
       " ['林清英', 87, 76, 78, 89, 70],\n",
       " ['王明昇', 99, 68, 73, 96, 83],\n",
       " ['鄭琇亞', 76, 56, 79, 74, 57],\n",
       " ['蒙淑惠', 63, 57, 89, 75, 91],\n",
       " ['景歡燦', 88, 98, 71, 100, 77],\n",
       " ['方雅慧', 61, 50, 69, 100, 94],\n",
       " ['李佳彥', 85, 98, 89, 63, 61],\n",
       " ['黃佩芬', 70, 95, 66, 52, 59],\n",
       " ['郭舜昇', 50, 98, 65, 84, 93],\n",
       " ['吳明妮', 97, 58, 89, 54, 76],\n",
       " ['陳淑萍', 75, 70, 97, 99, 75],\n",
       " ['郭淑枝', 89, 50, 98, 98, 70]]"
      ]
     },
     "execution_count": 18,
     "metadata": {},
     "output_type": "execute_result"
    }
   ],
   "source": [
    "import random\n",
    "def getScore():\n",
    "    score=[]\n",
    "    for i in range(5):\n",
    "        score.append(random.randint(50,100))\n",
    "    return score\n",
    "\n",
    "number = int(input(\"請輸入學生數:\"))\n",
    "with open(\"names.txt\",encoding=\"utf-8\",newline='') as file:\n",
    "        names_str=file.read()\n",
    "        names_list=names_str.split(sep=\"\\n\")\n",
    "        name=random.choices(names_list,k=number)\n",
    "student=[]\n",
    "for i in range(number):\n",
    "    score=getScore()\n",
    "    score=[name[i]]+score\n",
    "    student.append(score)\n",
    "student"
   ]
  }
 ],
 "metadata": {
  "kernelspec": {
   "display_name": "Python 3",
   "language": "python",
   "name": "python3"
  },
  "language_info": {
   "codemirror_mode": {
    "name": "ipython",
    "version": 3
   },
   "file_extension": ".py",
   "mimetype": "text/x-python",
   "name": "python",
   "nbconvert_exporter": "python",
   "pygments_lexer": "ipython3",
   "version": "3.10.12"
  },
  "orig_nbformat": 4
 },
 "nbformat": 4,
 "nbformat_minor": 2
}
