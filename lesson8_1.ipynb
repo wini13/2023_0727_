{
 "cells": [
  {
   "cell_type": "code",
   "execution_count": 2,
   "metadata": {},
   "outputs": [
    {
     "data": {
      "text/plain": [
       "'Hello!'"
      ]
     },
     "execution_count": 2,
     "metadata": {},
     "output_type": "execute_result"
    }
   ],
   "source": [
    "greeting='Hello! World!'\n",
    "greeting[:6]"
   ]
  },
  {
   "cell_type": "code",
   "execution_count": 4,
   "metadata": {},
   "outputs": [
    {
     "data": {
      "text/plain": [
       "str"
      ]
     },
     "metadata": {},
     "output_type": "display_data"
    },
    {
     "data": {
      "text/plain": [
       "'Taipei'"
      ]
     },
     "execution_count": 4,
     "metadata": {},
     "output_type": "execute_result"
    }
   ],
   "source": [
    "city = 'taipei'\n",
    "display(type(city))\n",
    "city = city.capitalize() #str實體的方法,capitalize()\n",
    "city"
   ]
  },
  {
   "cell_type": "code",
   "execution_count": 6,
   "metadata": {},
   "outputs": [
    {
     "data": {
      "text/plain": [
       "'Penny'"
      ]
     },
     "execution_count": 6,
     "metadata": {},
     "output_type": "execute_result"
    }
   ],
   "source": [
    "name = \"Henny\"\n",
    "name=name.replace(\"H\",\"P\")\n",
    "name"
   ]
  },
  {
   "cell_type": "code",
   "execution_count": 7,
   "metadata": {},
   "outputs": [
    {
     "data": {
      "text/plain": [
       "'penny'"
      ]
     },
     "execution_count": 7,
     "metadata": {},
     "output_type": "execute_result"
    }
   ],
   "source": [
    "name = 'Henny'\n",
    "name=\"p\"+name[1:]\n",
    "name"
   ]
  },
  {
   "cell_type": "code",
   "execution_count": 9,
   "metadata": {},
   "outputs": [
    {
     "data": {
      "text/plain": [
       "8"
      ]
     },
     "execution_count": 9,
     "metadata": {},
     "output_type": "execute_result"
    }
   ],
   "source": [
    "str=\"This is python\"\n",
    "str.find(\"python\")"
   ]
  },
  {
   "cell_type": "code",
   "execution_count": 10,
   "metadata": {},
   "outputs": [
    {
     "data": {
      "text/plain": [
       "'a-b-c-d-e'"
      ]
     },
     "execution_count": 10,
     "metadata": {},
     "output_type": "execute_result"
    }
   ],
   "source": [
    "#連結\n",
    "str=\"-\"\n",
    "str.join(\"abcde\")"
   ]
  },
  {
   "cell_type": "code",
   "execution_count": 11,
   "metadata": {},
   "outputs": [
    {
     "data": {
      "text/plain": [
       "['python', 'java', 'c++', 'ruby']"
      ]
     },
     "execution_count": 11,
     "metadata": {},
     "output_type": "execute_result"
    }
   ],
   "source": [
    "#切割\n",
    "str1=\"python,java,c++,ruby\"\n",
    "str1.split(sep=\",\")"
   ]
  },
  {
   "cell_type": "code",
   "execution_count": 15,
   "metadata": {},
   "outputs": [
    {
     "name": "stdout",
     "output_type": "stream",
     "text": [
      "您的年紀為15\n"
     ]
    }
   ],
   "source": [
    "age=input(\"請輸入年紀:\")\n",
    "if not age.isdigit():\n",
    "    print(\"輸入錯誤\")\n",
    "else:\n",
    "    print(f\"您的年紀為{age}\")"
   ]
  },
  {
   "cell_type": "code",
   "execution_count": 23,
   "metadata": {},
   "outputs": [
    {
     "name": "stdout",
     "output_type": "stream",
     "text": [
      "---breakfast menu---\n",
      " \n",
      " 法式吐司      35元\n",
      " 原味蛋餅      30元\n",
      " 蘿蔔糕        35元\n",
      " \n",
      "--------------------\n"
     ]
    }
   ],
   "source": [
    "print(\"breakfast menu\".center(20,\"-\"))\n",
    "print(\" \")\n",
    "print(\" 法式吐司\".ljust(9)+\"35元\".rjust(5))\n",
    "print(\" 原味蛋餅\".ljust(9)+\"30元\".rjust(5))\n",
    "print(\" 蘿蔔糕\".ljust(10)+\"35元\".rjust(5))\n",
    "print(\" \")\n",
    "print(\"--------------------\")"
   ]
  },
  {
   "cell_type": "code",
   "execution_count": 37,
   "metadata": {},
   "outputs": [
    {
     "name": "stdout",
     "output_type": "stream",
     "text": [
      "您的手機號碼是:0255_555-555,格式有錯\n"
     ]
    }
   ],
   "source": [
    "#檢查台灣手機號碼格式(xxxx-xxx-xxx)\n",
    "def isPhoneNumber(text:str) -> bool:\n",
    "    if len(text) != 12:\n",
    "        return False\n",
    "    elif not text[:4].isdigit():\n",
    "        return False\n",
    "    elif text[4]!=\"-\":\n",
    "        return False\n",
    "    elif not text[5:8].isdigit():\n",
    "        return False\n",
    "    elif text[8]!=\"-\":\n",
    "        return False\n",
    "    elif  not text[-3:].isdigit():\n",
    "        return False\n",
    "    return True\n",
    "\n",
    "    \n",
    "phone = input(\"請輸入手機號碼xxxx-xxx-xxx:\")\n",
    "if isPhoneNumber(phone):\n",
    "    print(f\"您的手機號碼是:{phone}\")\n",
    "else:\n",
    "    print(f\"您的手機號碼是:{phone},格式有錯\")\n"
   ]
  },
  {
   "cell_type": "code",
   "execution_count": 40,
   "metadata": {},
   "outputs": [
    {
     "name": "stdout",
     "output_type": "stream",
     "text": [
      "您的手機號碼是:0956-562-333\n"
     ]
    }
   ],
   "source": [
    "#檢查台灣手機號碼格式(xxxx-xxx-xxx)\n",
    "#正規則表達式 https://pythex.org/\n",
    "#re\n",
    "import re\n",
    "\n",
    "def isPhoneNumber(text:str) -> bool:\n",
    "    phone_example = re.compile(r\"\\d\\d\\d\\d-\\d\\d\\d-\\d\\d\\d\")\n",
    "    if phone_example.match(text) is None:\n",
    "        return False\n",
    "    else:\n",
    "        return True\n",
    "phone = input(\"請輸入手機號碼xxxx-xxx-xxx:\")\n",
    "if isPhoneNumber(phone):\n",
    "    print(f\"您的手機號碼是:{phone}\")\n",
    "else:\n",
    "    print(f\"您的手機號碼是:{phone},格式有錯\")\n"
   ]
  },
  {
   "cell_type": "code",
   "execution_count": 41,
   "metadata": {},
   "outputs": [
    {
     "name": "stdout",
     "output_type": "stream",
     "text": [
      "您的email是:winitsai831@gmail.com\n"
     ]
    }
   ],
   "source": [
    "# 檢查email輸入格式\n",
    "# 正規則表達式\n",
    "#re \n",
    "import re\n",
    "def isEmail(text:str) -> bool:\n",
    "    emailRegex = re.compile(r'^\\w+((-\\w+)|(\\.\\w+))*\\@[A-Za-z0-9]+((\\.|-)[A-Za-z0-9]+)*\\.[A-Za-z]+$')\n",
    "    if emailRegex.match(text) is None:\n",
    "        return False\n",
    "    else:\n",
    "        return True\n",
    "\n",
    "email = input(\"請輸入您的email:\")\n",
    "if isEmail(email):\n",
    "    print(f\"您的email是:{email}\")\n",
    "else:\n",
    "    print(f\"您的email是:{email},格式有錯\")"
   ]
  }
 ],
 "metadata": {
  "kernelspec": {
   "display_name": "Python 3",
   "language": "python",
   "name": "python3"
  },
  "language_info": {
   "codemirror_mode": {
    "name": "ipython",
    "version": 3
   },
   "file_extension": ".py",
   "mimetype": "text/x-python",
   "name": "python",
   "nbconvert_exporter": "python",
   "pygments_lexer": "ipython3",
   "version": "3.10.12"
  },
  "orig_nbformat": 4
 },
 "nbformat": 4,
 "nbformat_minor": 2
}
