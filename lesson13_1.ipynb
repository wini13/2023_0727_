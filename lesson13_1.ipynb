{
 "cells": [
  {
   "cell_type": "code",
   "execution_count": 34,
   "metadata": {},
   "outputs": [],
   "source": [
    "class Student:\n",
    "    def __init__(self,name:str,chinese:int,math:int,english:int):\n",
    "        self.name=name\n",
    "        self.chinese=chinese\n",
    "        self.math=math\n",
    "        self.english=english\n",
    "\n",
    "    #實體方法method\n",
    "    def total(self)->int:\n",
    "        return self.chinese + self.math + self.english\n",
    "    \n",
    "    #建立property->類似method,沒有參數,一定傳出一個值\n",
    "    @property\n",
    "    def average(self)->float:\n",
    "        return round(self.total()/3.0,2)\n",
    "    \n",
    "    def __repr__(self):\n",
    "        return f'我是學生實體，我的名字是{self.name}'"
   ]
  },
  {
   "cell_type": "code",
   "execution_count": 35,
   "metadata": {},
   "outputs": [
    {
     "data": {
      "text/plain": [
       "('安室透', 75, 100, 97)"
      ]
     },
     "metadata": {},
     "output_type": "display_data"
    },
    {
     "data": {
      "text/plain": [
       "(272, 90.67)"
      ]
     },
     "metadata": {},
     "output_type": "display_data"
    },
    {
     "name": "stdout",
     "output_type": "stream",
     "text": [
      "我是學生實體，我的名字是安室透\n"
     ]
    }
   ],
   "source": [
    "stu1=Student('安室透',75,100,97)\n",
    "display((stu1.name,stu1.chinese,stu1.math,stu1.english))\n",
    "display((stu1.total(),stu1.average))\n",
    "print(stu1)"
   ]
  },
  {
   "cell_type": "code",
   "execution_count": 36,
   "metadata": {},
   "outputs": [
    {
     "data": {
      "text/plain": [
       "('孫賢佑', 70, 85, 72)"
      ]
     },
     "metadata": {},
     "output_type": "display_data"
    },
    {
     "data": {
      "text/plain": [
       "(227, 75.67)"
      ]
     },
     "metadata": {},
     "output_type": "display_data"
    },
    {
     "name": "stdout",
     "output_type": "stream",
     "text": [
      "我是學生實體，我的名字是孫賢佑\n"
     ]
    }
   ],
   "source": [
    "stu2=Student('孫賢佑',70,85,72)\n",
    "display((stu2.name,stu2.chinese,stu2.math,stu2.english))\n",
    "display((stu2.total(),stu2.average))\n",
    "print(stu2)"
   ]
  },
  {
   "cell_type": "code",
   "execution_count": 37,
   "metadata": {},
   "outputs": [
    {
     "data": {
      "text/plain": [
       "('崔智秀', 71, 98, 92)"
      ]
     },
     "metadata": {},
     "output_type": "display_data"
    },
    {
     "data": {
      "text/plain": [
       "(261, 87.0)"
      ]
     },
     "metadata": {},
     "output_type": "display_data"
    },
    {
     "name": "stdout",
     "output_type": "stream",
     "text": [
      "我是學生實體，我的名字是崔智秀\n"
     ]
    }
   ],
   "source": [
    "stu3 = Student(\"崔智秀\",english=98, math=92, chinese=71)\n",
    "display((stu3.name, stu3.chinese, stu3.english, stu3.math))\n",
    "display((stu3.total(),stu3.average))\n",
    "print(stu3)"
   ]
  },
  {
   "cell_type": "code",
   "execution_count": 38,
   "metadata": {},
   "outputs": [
    {
     "data": {
      "text/plain": [
       "('南藝俊', 97, 86, 78)"
      ]
     },
     "metadata": {},
     "output_type": "display_data"
    },
    {
     "data": {
      "text/plain": [
       "(261, 87.0)"
      ]
     },
     "metadata": {},
     "output_type": "display_data"
    },
    {
     "name": "stdout",
     "output_type": "stream",
     "text": [
      "我是學生實體，我的名字是南藝俊\n"
     ]
    }
   ],
   "source": [
    "stu4=Student('南藝俊',97,86,78)\n",
    "display((stu4.name,stu4.chinese,stu4.math,stu4.english))\n",
    "display((stu4.total(),stu4.average))\n",
    "print(stu4)"
   ]
  }
 ],
 "metadata": {
  "kernelspec": {
   "display_name": "Python 3",
   "language": "python",
   "name": "python3"
  },
  "language_info": {
   "codemirror_mode": {
    "name": "ipython",
    "version": 3
   },
   "file_extension": ".py",
   "mimetype": "text/x-python",
   "name": "python",
   "nbconvert_exporter": "python",
   "pygments_lexer": "ipython3",
   "version": "3.10.12"
  },
  "orig_nbformat": 4
 },
 "nbformat": 4,
 "nbformat_minor": 2
}
