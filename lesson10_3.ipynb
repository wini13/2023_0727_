{
 "cells": [
  {
   "cell_type": "code",
   "execution_count": 3,
   "metadata": {},
   "outputs": [
    {
     "data": {
      "text/plain": [
       "[45, 66, 35, 54, 76]"
      ]
     },
     "execution_count": 3,
     "metadata": {},
     "output_type": "execute_result"
    }
   ],
   "source": [
    "#二維list\n",
    "students=[[45,66,35,54,76],\n",
    "          [53,76,86,56,77],\n",
    "          [76,78,97,76,70]]\n",
    "students[0]"
   ]
  },
  {
   "cell_type": "code",
   "execution_count": 2,
   "metadata": {},
   "outputs": [
    {
     "name": "stdout",
     "output_type": "stream",
     "text": [
      "[45, 66, 35, 54, 76]\n",
      "[53, 76, 86, 56, 77]\n",
      "[76, 78, 97, 76, 70]\n"
     ]
    }
   ],
   "source": [
    "for student in students:\n",
    "    print(student)"
   ]
  },
  {
   "cell_type": "code",
   "execution_count": 7,
   "metadata": {},
   "outputs": [
    {
     "data": {
      "text/plain": [
       "[[72, 81, 90, 83, 59],\n",
       " [91, 57, 60, 65, 54],\n",
       " [57, 95, 63, 75, 76],\n",
       " [63, 97, 64, 92, 98],\n",
       " [58, 74, 99, 73, 93],\n",
       " [100, 87, 53, 63, 69],\n",
       " [51, 65, 76, 93, 72],\n",
       " [86, 67, 69, 82, 75],\n",
       " [86, 52, 99, 84, 85],\n",
       " [91, 89, 75, 53, 77],\n",
       " [89, 76, 86, 69, 81],\n",
       " [69, 56, 99, 82, 61],\n",
       " [63, 99, 94, 81, 87],\n",
       " [63, 93, 55, 56, 70],\n",
       " [63, 50, 84, 79, 50],\n",
       " [100, 66, 78, 97, 99],\n",
       " [89, 70, 54, 63, 71],\n",
       " [78, 83, 96, 62, 78],\n",
       " [66, 61, 73, 52, 82],\n",
       " [55, 91, 98, 61, 68],\n",
       " [87, 77, 67, 55, 68],\n",
       " [75, 91, 58, 52, 53],\n",
       " [59, 99, 56, 77, 100],\n",
       " [69, 87, 79, 64, 97],\n",
       " [59, 71, 56, 50, 83],\n",
       " [96, 85, 61, 80, 99],\n",
       " [95, 86, 73, 54, 64],\n",
       " [83, 60, 55, 79, 54],\n",
       " [63, 79, 65, 75, 82],\n",
       " [78, 61, 62, 87, 82],\n",
       " [74, 92, 71, 52, 75],\n",
       " [58, 56, 54, 89, 81],\n",
       " [89, 80, 70, 66, 53],\n",
       " [69, 100, 52, 81, 83],\n",
       " [69, 60, 76, 86, 67],\n",
       " [85, 65, 76, 54, 98],\n",
       " [93, 94, 79, 53, 95],\n",
       " [79, 85, 70, 65, 77],\n",
       " [75, 76, 99, 63, 94],\n",
       " [100, 96, 65, 71, 56],\n",
       " [82, 99, 84, 80, 85],\n",
       " [94, 62, 77, 86, 97],\n",
       " [59, 71, 82, 94, 77],\n",
       " [90, 69, 68, 81, 84],\n",
       " [89, 98, 51, 60, 55],\n",
       " [87, 56, 59, 93, 81],\n",
       " [58, 64, 51, 50, 81],\n",
       " [69, 81, 63, 82, 53],\n",
       " [88, 68, 98, 64, 54],\n",
       " [94, 64, 57, 72, 77]]"
      ]
     },
     "execution_count": 7,
     "metadata": {},
     "output_type": "execute_result"
    }
   ],
   "source": [
    "import random\n",
    "def getScore():\n",
    "    score=[]\n",
    "    for i in range(5):\n",
    "        score.append(random.randint(50,100))\n",
    "    return score\n",
    "student=[]\n",
    "for i in range(50):\n",
    "    score=getScore()\n",
    "    student.append(score)\n",
    "student"
   ]
  }
 ],
 "metadata": {
  "kernelspec": {
   "display_name": "Python 3",
   "language": "python",
   "name": "python3"
  },
  "language_info": {
   "codemirror_mode": {
    "name": "ipython",
    "version": 3
   },
   "file_extension": ".py",
   "mimetype": "text/x-python",
   "name": "python",
   "nbconvert_exporter": "python",
   "pygments_lexer": "ipython3",
   "version": "3.10.12"
  },
  "orig_nbformat": 4
 },
 "nbformat": 4,
 "nbformat_minor": 2
}
