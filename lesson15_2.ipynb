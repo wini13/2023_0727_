{
 "cells": [
  {
   "cell_type": "code",
   "execution_count": 1,
   "metadata": {},
   "outputs": [
    {
     "data": {
      "text/plain": [
       "[3, 7, 11, 15, 19]"
      ]
     },
     "execution_count": 1,
     "metadata": {},
     "output_type": "execute_result"
    }
   ],
   "source": [
    "a=[1,3,5,7,9]\n",
    "b=[2,4,6,8,10]\n",
    "a+b\n",
    "result=[]\n",
    "for i in range(5):\n",
    "    result.append(a[i]+b[i])\n",
    "\n",
    "result"
   ]
  },
  {
   "cell_type": "code",
   "execution_count": 3,
   "metadata": {},
   "outputs": [
    {
     "data": {
      "text/plain": [
       "array([ 3,  7, 11, 15, 19])"
      ]
     },
     "execution_count": 3,
     "metadata": {},
     "output_type": "execute_result"
    }
   ],
   "source": [
    "import numpy as np\n",
    "a_array=np.array([1,3,5,7,9])\n",
    "a_array*2\n",
    "b_array=np.array([2,4,6,8,10])\n",
    "a_array+b_array"
   ]
  },
  {
   "cell_type": "code",
   "execution_count": 4,
   "metadata": {},
   "outputs": [
    {
     "data": {
      "text/plain": [
       "[67, 76, 72, 82, 50]"
      ]
     },
     "execution_count": 4,
     "metadata": {},
     "output_type": "execute_result"
    }
   ],
   "source": [
    "#使用python建立5個亂數元素list\n",
    "import random\n",
    "[random.randint(50,100) for _ in range(5)]"
   ]
  },
  {
   "cell_type": "code",
   "execution_count": 7,
   "metadata": {},
   "outputs": [
    {
     "data": {
      "text/plain": [
       "array([[61, 99, 76, 68, 83],\n",
       "       [55, 69, 57, 68, 80],\n",
       "       [82, 90, 94, 67, 56],\n",
       "       [68, 81, 52, 84, 90],\n",
       "       [75, 55, 90, 70, 84],\n",
       "       [62, 60, 70, 75, 68],\n",
       "       [66, 99, 60, 95, 75],\n",
       "       [58, 63, 82, 69, 59],\n",
       "       [56, 99, 74, 76, 67],\n",
       "       [52, 95, 75, 54, 64],\n",
       "       [84, 98, 78, 51, 79],\n",
       "       [76, 86, 51, 52, 89],\n",
       "       [92, 77, 92, 78, 87],\n",
       "       [63, 52, 97, 81, 86],\n",
       "       [91, 64, 68, 54, 89],\n",
       "       [52, 53, 60, 90, 52],\n",
       "       [94, 50, 63, 63, 80],\n",
       "       [62, 76, 63, 87, 79],\n",
       "       [90, 83, 74, 82, 63],\n",
       "       [98, 60, 54, 52, 57],\n",
       "       [72, 50, 97, 89, 69],\n",
       "       [64, 99, 77, 74, 66],\n",
       "       [54, 69, 95, 53, 89],\n",
       "       [89, 65, 93, 87, 56],\n",
       "       [54, 81, 53, 92, 96],\n",
       "       [79, 54, 71, 58, 82],\n",
       "       [89, 53, 66, 60, 52],\n",
       "       [59, 85, 90, 93, 69],\n",
       "       [53, 95, 87, 72, 51],\n",
       "       [57, 63, 70, 99, 52],\n",
       "       [59, 81, 75, 88, 76],\n",
       "       [64, 99, 89, 74, 72],\n",
       "       [88, 58, 66, 63, 94],\n",
       "       [75, 53, 88, 99, 63],\n",
       "       [82, 92, 66, 90, 91],\n",
       "       [83, 82, 74, 98, 70],\n",
       "       [89, 78, 96, 73, 72],\n",
       "       [89, 69, 95, 61, 61],\n",
       "       [72, 59, 87, 73, 92],\n",
       "       [71, 67, 92, 91, 84],\n",
       "       [93, 77, 84, 70, 87],\n",
       "       [98, 98, 94, 71, 82],\n",
       "       [78, 88, 71, 71, 91],\n",
       "       [76, 98, 79, 85, 51],\n",
       "       [87, 68, 67, 79, 59],\n",
       "       [77, 72, 67, 74, 51],\n",
       "       [57, 61, 66, 57, 62],\n",
       "       [60, 87, 98, 95, 80],\n",
       "       [82, 81, 50, 99, 63],\n",
       "       [75, 69, 80, 96, 61]])"
      ]
     },
     "execution_count": 7,
     "metadata": {},
     "output_type": "execute_result"
    }
   ],
   "source": [
    "#使用numpy建立5個亂數元素list\n",
    "import numpy as np\n",
    "np.random.randint(50,100,size=(50,5))"
   ]
  }
 ],
 "metadata": {
  "kernelspec": {
   "display_name": "Python 3",
   "language": "python",
   "name": "python3"
  },
  "language_info": {
   "codemirror_mode": {
    "name": "ipython",
    "version": 3
   },
   "file_extension": ".py",
   "mimetype": "text/x-python",
   "name": "python",
   "nbconvert_exporter": "python",
   "pygments_lexer": "ipython3",
   "version": "3.10.12"
  },
  "orig_nbformat": 4
 },
 "nbformat": 4,
 "nbformat_minor": 2
}
