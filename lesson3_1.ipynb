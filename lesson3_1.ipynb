{
 "cells": [
  {
   "cell_type": "code",
   "execution_count": 1,
   "metadata": {},
   "outputs": [
    {
     "data": {
      "text/plain": [
       "5000"
      ]
     },
     "execution_count": 1,
     "metadata": {},
     "output_type": "execute_result"
    }
   ],
   "source": [
    "100*50"
   ]
  },
  {
   "cell_type": "code",
   "execution_count": 3,
   "metadata": {},
   "outputs": [
    {
     "name": "stdout",
     "output_type": "stream",
     "text": [
      "梯形面積是 203.74 平方公分\n"
     ]
    }
   ],
   "source": [
    "#讓使用者輸入梯形的上底、下底及高，程式會計算梯形的面積(上底加下底乘以高除以2)\n",
    "a = float(input(\"請輸入梯形的上底(公分):\"))\n",
    "b = float(input(\"請輸入梯形的下底(公分):\"))\n",
    "c = float(input(\"請輸入梯形的高（公分）:\"))\n",
    "answer = (a+b)*c/2\n",
    "print(\"梯形面積是\",round(answer,2),\"平方公分\") #(round):四捨五入"
   ]
  },
  {
   "cell_type": "code",
   "execution_count": 5,
   "metadata": {},
   "outputs": [
    {
     "name": "stdout",
     "output_type": "stream",
     "text": [
      "梯形面積是203.74平方公分\n"
     ]
    }
   ],
   "source": [
    "#讓使用者輸入梯形的上底、下底及高，程式會計算梯形的面積(上底加下底乘以高除以2)\n",
    "a = float(input(\"請輸入梯形的上底(公分):\"))\n",
    "b = float(input(\"請輸入梯形的下底(公分):\"))\n",
    "c = float(input(\"請輸入梯形的高（公分）:\"))\n",
    "answer = (a+b)*c/2\n",
    "print(f\"梯形面積是{answer:.2f}平方公分\") \n",
    "#字串差補(輸出不會有空格):(f(\"文{變數}字\"))\n",
    "#(:.2f):強制只輸出小數點後兩位"
   ]
  },
  {
   "cell_type": "code",
   "execution_count": 9,
   "metadata": {},
   "outputs": [
    {
     "name": "stdout",
     "output_type": "stream",
     "text": [
      "對邊:2.5,斜邊:5,角度為:30.00\n"
     ]
    }
   ],
   "source": [
    "#高中數學\n",
    "import math #引入math\n",
    "a = eval(input(\"請輸入對邊:\"))\n",
    "b = eval(input(\"請輸入斜邊:\"))\n",
    "radian = math.asin(a/b)\n",
    "answer = math.degrees(radian)\n",
    "\n",
    "print(f\"對邊:{a},斜邊:{b},角度為:{answer:.2f}\")"
   ]
  }
 ],
 "metadata": {
  "kernelspec": {
   "display_name": "Python 3",
   "language": "python",
   "name": "python3"
  },
  "language_info": {
   "codemirror_mode": {
    "name": "ipython",
    "version": 3
   },
   "file_extension": ".py",
   "mimetype": "text/x-python",
   "name": "python",
   "nbconvert_exporter": "python",
   "pygments_lexer": "ipython3",
   "version": "3.10.12"
  },
  "orig_nbformat": 4
 },
 "nbformat": 4,
 "nbformat_minor": 2
}
