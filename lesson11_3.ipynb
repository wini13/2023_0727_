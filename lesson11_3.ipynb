{
 "cells": [
  {
   "cell_type": "code",
   "execution_count": 5,
   "metadata": {},
   "outputs": [
    {
     "data": {
      "text/plain": [
       "[['蔡明平', 62, 79, 89, 86, 97],\n",
       " ['蔡世馨', 100, 73, 98, 65, 52],\n",
       " ['陳冠竹', 61, 74, 71, 61, 69],\n",
       " ['翁鈺婷', 62, 61, 60, 73, 63],\n",
       " ['楊綺芬', 66, 51, 60, 51, 87],\n",
       " ['王德城', 76, 72, 74, 52, 52],\n",
       " ['陳美惠', 98, 76, 62, 86, 77],\n",
       " ['趙家豪', 66, 62, 82, 97, 68],\n",
       " ['陳怡珊', 90, 64, 92, 91, 100],\n",
       " ['林建勳', 74, 86, 76, 66, 77],\n",
       " ['楊又源', 85, 89, 65, 99, 60],\n",
       " ['游詩亞', 79, 56, 57, 84, 77],\n",
       " ['元延辛', 85, 65, 57, 83, 60],\n",
       " ['洪阿惠', 84, 91, 73, 92, 88],\n",
       " ['林向鈺', 50, 73, 72, 85, 95]]"
      ]
     },
     "execution_count": 5,
     "metadata": {},
     "output_type": "execute_result"
    }
   ],
   "source": [
    "import random\n",
    "def getScore():\n",
    "    score=[]\n",
    "    for i in range(5):\n",
    "        score.append(random.randint(50,100))\n",
    "    return score\n",
    "\n",
    "def get_name(number):\n",
    "    with open(\"names.txt\",encoding=\"utf-8\",newline='') as file:\n",
    "        names_str=file.read()\n",
    "        names_list=names_str.split(sep=\"\\n\")\n",
    "        name=random.choices(names_list,k=number)\n",
    "    return name\n",
    "\n",
    "number = int(input(\"請輸入學生數:\"))\n",
    "name = get_name(number)\n",
    "student=[]\n",
    "for i in range(number):\n",
    "    score=getScore()\n",
    "    score=[name[i]]+score\n",
    "    student.append(score)\n",
    "student"
   ]
  },
  {
   "cell_type": "code",
   "execution_count": 6,
   "metadata": {},
   "outputs": [
    {
     "name": "stdout",
     "output_type": "stream",
     "text": [
      "存檔成功\n"
     ]
    }
   ],
   "source": [
    "import csv\n",
    "\n",
    "fileName=input(\"請輸入檔名:\")\n",
    "with open(f'{fileName}.csv',mode='w',encoding=\"utf-8\",newline=\"\") as csvfile:\n",
    "    csv_writer=csv.writer(csvfile)\n",
    "    csv_writer.writerow(student)\n",
    "\n",
    "print(\"存檔成功\")"
   ]
  }
 ],
 "metadata": {
  "kernelspec": {
   "display_name": "Python 3",
   "language": "python",
   "name": "python3"
  },
  "language_info": {
   "codemirror_mode": {
    "name": "ipython",
    "version": 3
   },
   "file_extension": ".py",
   "mimetype": "text/x-python",
   "name": "python",
   "nbconvert_exporter": "python",
   "pygments_lexer": "ipython3",
   "version": "3.10.12"
  },
  "orig_nbformat": 4
 },
 "nbformat": 4,
 "nbformat_minor": 2
}
