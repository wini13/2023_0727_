{
 "cells": [
  {
   "cell_type": "code",
   "execution_count": 2,
   "metadata": {},
   "outputs": [
    {
     "name": "stdout",
     "output_type": "stream",
     "text": [
      "你的年齡大於18\n",
      "程式結束\n"
     ]
    }
   ],
   "source": [
    "a = 19\n",
    "if a > 18:\n",
    "    print(\"你的年齡大於18\")\n",
    "\n",
    "print(\"程式結束\")"
   ]
  },
  {
   "cell_type": "code",
   "execution_count": 20,
   "metadata": {},
   "outputs": [
    {
     "name": "stdout",
     "output_type": "stream",
     "text": [
      "學生分數是292\n"
     ]
    }
   ],
   "source": [
    "#學生總分為300\n",
    "#有些學生可以加分5%\n",
    "score = int(input(\"請輸入學生分數(最高300分):\"))\n",
    "if score <= 300:\n",
    "    is_add = input(\"學生是否符合加分條件?(是,否)\")\n",
    "\n",
    "    if(is_add == \"是\"):\n",
    "        score *= 1.05\n",
    "        if score > 300:\n",
    "            score = 300\n",
    "    print(f\"學生分數是{round(score)}\")\n",
    "else:\n",
    "    print(\"學生分數不可能大於300\")"
   ]
  },
  {
   "cell_type": "code",
   "execution_count": 15,
   "metadata": {},
   "outputs": [
    {
     "name": "stdout",
     "output_type": "stream",
     "text": [
      "不及格\n"
     ]
    }
   ],
   "source": [
    "score = int(input(\"請輸入學生分數(0~100):\"))\n",
    "if score >= 60:\n",
    "    print(\"及格\")\n",
    "else:\n",
    "    print(\"不及格\")\n"
   ]
  },
  {
   "cell_type": "code",
   "execution_count": 24,
   "metadata": {},
   "outputs": [
    {
     "name": "stdout",
     "output_type": "stream",
     "text": [
      "67489\n"
     ]
    }
   ],
   "source": [
    "try:\n",
    "    money = int(input('請輸入金額:'))\n",
    "    print(money)\n",
    "except:\n",
    "    print(\"輸入格式錯誤!\")"
   ]
  }
 ],
 "metadata": {
  "kernelspec": {
   "display_name": "Python 3",
   "language": "python",
   "name": "python3"
  },
  "language_info": {
   "codemirror_mode": {
    "name": "ipython",
    "version": 3
   },
   "file_extension": ".py",
   "mimetype": "text/x-python",
   "name": "python",
   "nbconvert_exporter": "python",
   "pygments_lexer": "ipython3",
   "version": "3.10.12"
  },
  "orig_nbformat": 4
 },
 "nbformat": 4,
 "nbformat_minor": 2
}
