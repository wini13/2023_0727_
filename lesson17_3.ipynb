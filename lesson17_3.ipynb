{
 "cells": [
  {
   "cell_type": "code",
   "execution_count": 1,
   "metadata": {},
   "outputs": [],
   "source": [
    "import pandas as pd\n",
    "df = pd.read_csv('學生成績.csv')"
   ]
  },
  {
   "cell_type": "code",
   "execution_count": 2,
   "metadata": {},
   "outputs": [
    {
     "data": {
      "text/plain": [
       "學號       3\n",
       "姓名     李政白\n",
       "國文      70\n",
       "英文      78\n",
       "數學      59\n",
       "歷史      60\n",
       "生物      50\n",
       "總分     317\n",
       "平均    63.4\n",
       "Name: 2, dtype: object"
      ]
     },
     "execution_count": 2,
     "metadata": {},
     "output_type": "execute_result"
    }
   ],
   "source": [
    "df.iloc[2]"
   ]
  },
  {
   "cell_type": "code",
   "execution_count": 3,
   "metadata": {},
   "outputs": [
    {
     "data": {
      "text/html": [
       "<div>\n",
       "<style scoped>\n",
       "    .dataframe tbody tr th:only-of-type {\n",
       "        vertical-align: middle;\n",
       "    }\n",
       "\n",
       "    .dataframe tbody tr th {\n",
       "        vertical-align: top;\n",
       "    }\n",
       "\n",
       "    .dataframe thead th {\n",
       "        text-align: right;\n",
       "    }\n",
       "</style>\n",
       "<table border=\"1\" class=\"dataframe\">\n",
       "  <thead>\n",
       "    <tr style=\"text-align: right;\">\n",
       "      <th></th>\n",
       "      <th>學號</th>\n",
       "      <th>姓名</th>\n",
       "      <th>國文</th>\n",
       "      <th>英文</th>\n",
       "      <th>數學</th>\n",
       "      <th>歷史</th>\n",
       "      <th>生物</th>\n",
       "      <th>總分</th>\n",
       "      <th>平均</th>\n",
       "    </tr>\n",
       "  </thead>\n",
       "  <tbody>\n",
       "    <tr>\n",
       "      <th>0</th>\n",
       "      <td>1</td>\n",
       "      <td>龐皓芳</td>\n",
       "      <td>55</td>\n",
       "      <td>80</td>\n",
       "      <td>81</td>\n",
       "      <td>84</td>\n",
       "      <td>84</td>\n",
       "      <td>384</td>\n",
       "      <td>76.8</td>\n",
       "    </tr>\n",
       "    <tr>\n",
       "      <th>1</th>\n",
       "      <td>2</td>\n",
       "      <td>蔡欣汝</td>\n",
       "      <td>76</td>\n",
       "      <td>57</td>\n",
       "      <td>91</td>\n",
       "      <td>74</td>\n",
       "      <td>73</td>\n",
       "      <td>371</td>\n",
       "      <td>74.2</td>\n",
       "    </tr>\n",
       "    <tr>\n",
       "      <th>2</th>\n",
       "      <td>3</td>\n",
       "      <td>李政白</td>\n",
       "      <td>70</td>\n",
       "      <td>78</td>\n",
       "      <td>59</td>\n",
       "      <td>60</td>\n",
       "      <td>50</td>\n",
       "      <td>317</td>\n",
       "      <td>63.4</td>\n",
       "    </tr>\n",
       "    <tr>\n",
       "      <th>3</th>\n",
       "      <td>4</td>\n",
       "      <td>錢欣潔</td>\n",
       "      <td>67</td>\n",
       "      <td>72</td>\n",
       "      <td>95</td>\n",
       "      <td>98</td>\n",
       "      <td>80</td>\n",
       "      <td>412</td>\n",
       "      <td>82.4</td>\n",
       "    </tr>\n",
       "  </tbody>\n",
       "</table>\n",
       "</div>"
      ],
      "text/plain": [
       "   學號   姓名  國文  英文  數學  歷史  生物   總分    平均\n",
       "0   1  龐皓芳  55  80  81  84  84  384  76.8\n",
       "1   2  蔡欣汝  76  57  91  74  73  371  74.2\n",
       "2   3  李政白  70  78  59  60  50  317  63.4\n",
       "3   4  錢欣潔  67  72  95  98  80  412  82.4"
      ]
     },
     "execution_count": 3,
     "metadata": {},
     "output_type": "execute_result"
    }
   ],
   "source": [
    "df[:4]"
   ]
  },
  {
   "cell_type": "code",
   "execution_count": 4,
   "metadata": {},
   "outputs": [
    {
     "data": {
      "text/plain": [
       "0     55\n",
       "1     76\n",
       "2     70\n",
       "3     67\n",
       "4     69\n",
       "5     67\n",
       "6     59\n",
       "7     68\n",
       "8     73\n",
       "9     72\n",
       "10    70\n",
       "11    82\n",
       "12    71\n",
       "13    70\n",
       "14    68\n",
       "15    66\n",
       "16    99\n",
       "17    74\n",
       "18    83\n",
       "19    91\n",
       "20    78\n",
       "21    86\n",
       "22    51\n",
       "23    67\n",
       "24    60\n",
       "25    65\n",
       "26    71\n",
       "27    63\n",
       "28    96\n",
       "29    84\n",
       "Name: 國文, dtype: int64"
      ]
     },
     "execution_count": 4,
     "metadata": {},
     "output_type": "execute_result"
    }
   ],
   "source": [
    "df['國文']"
   ]
  },
  {
   "cell_type": "code",
   "execution_count": 5,
   "metadata": {},
   "outputs": [
    {
     "name": "stdout",
     "output_type": "stream",
     "text": [
      "戚亨\n",
      "=========\n"
     ]
    },
    {
     "data": {
      "text/html": [
       "<div>\n",
       "<style scoped>\n",
       "    .dataframe tbody tr th:only-of-type {\n",
       "        vertical-align: middle;\n",
       "    }\n",
       "\n",
       "    .dataframe tbody tr th {\n",
       "        vertical-align: top;\n",
       "    }\n",
       "\n",
       "    .dataframe thead th {\n",
       "        text-align: right;\n",
       "    }\n",
       "</style>\n",
       "<table border=\"1\" class=\"dataframe\">\n",
       "  <thead>\n",
       "    <tr style=\"text-align: right;\">\n",
       "      <th></th>\n",
       "      <th>姓名</th>\n",
       "    </tr>\n",
       "  </thead>\n",
       "  <tbody>\n",
       "    <tr>\n",
       "      <th>0</th>\n",
       "      <td>龐皓芳</td>\n",
       "    </tr>\n",
       "    <tr>\n",
       "      <th>1</th>\n",
       "      <td>蔡欣汝</td>\n",
       "    </tr>\n",
       "    <tr>\n",
       "      <th>2</th>\n",
       "      <td>李政白</td>\n",
       "    </tr>\n",
       "    <tr>\n",
       "      <th>3</th>\n",
       "      <td>錢欣潔</td>\n",
       "    </tr>\n",
       "    <tr>\n",
       "      <th>4</th>\n",
       "      <td>戚亨</td>\n",
       "    </tr>\n",
       "  </tbody>\n",
       "</table>\n",
       "</div>"
      ],
      "text/plain": [
       "    姓名\n",
       "0  龐皓芳\n",
       "1  蔡欣汝\n",
       "2  李政白\n",
       "3  錢欣潔\n",
       "4   戚亨"
      ]
     },
     "metadata": {},
     "output_type": "display_data"
    },
    {
     "name": "stdout",
     "output_type": "stream",
     "text": [
      "=========\n",
      "27    楊易政\n",
      "28    林康亮\n",
      "29    陳得映\n",
      "Name: 姓名, dtype: object\n",
      "=========\n",
      "5     林希啟\n",
      "6     盧冠發\n",
      "7     許淑婷\n",
      "8     張慧君\n",
      "9     游倫城\n",
      "10    李慈啟\n",
      "11    王怡君\n",
      "12    黃婷婷\n",
      "Name: 姓名, dtype: object\n"
     ]
    }
   ],
   "source": [
    "name_s=df['姓名']\n",
    "print(name_s[4])\n",
    "print(\"=========\")\n",
    "display(pd.DataFrame(name_s[:5]))\n",
    "print(\"=========\")\n",
    "print(name_s[-3:])\n",
    "print(\"=========\")\n",
    "print(name_s[5:13])"
   ]
  }
 ],
 "metadata": {
  "kernelspec": {
   "display_name": "Python 3",
   "language": "python",
   "name": "python3"
  },
  "language_info": {
   "codemirror_mode": {
    "name": "ipython",
    "version": 3
   },
   "file_extension": ".py",
   "mimetype": "text/x-python",
   "name": "python",
   "nbconvert_exporter": "python",
   "pygments_lexer": "ipython3",
   "version": "3.10.12"
  },
  "orig_nbformat": 4
 },
 "nbformat": 4,
 "nbformat_minor": 2
}
