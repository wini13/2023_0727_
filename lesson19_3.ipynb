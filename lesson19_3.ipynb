{
 "cells": [
  {
   "cell_type": "code",
   "execution_count": 7,
   "metadata": {},
   "outputs": [
    {
     "data": {
      "text/html": [
       "<div>\n",
       "<style scoped>\n",
       "    .dataframe tbody tr th:only-of-type {\n",
       "        vertical-align: middle;\n",
       "    }\n",
       "\n",
       "    .dataframe tbody tr th {\n",
       "        vertical-align: top;\n",
       "    }\n",
       "\n",
       "    .dataframe thead th {\n",
       "        text-align: right;\n",
       "    }\n",
       "</style>\n",
       "<table border=\"1\" class=\"dataframe\">\n",
       "  <thead>\n",
       "    <tr style=\"text-align: right;\">\n",
       "      <th></th>\n",
       "      <th>b</th>\n",
       "      <th>g</th>\n",
       "      <th>h</th>\n",
       "    </tr>\n",
       "  </thead>\n",
       "  <tbody>\n",
       "    <tr>\n",
       "      <th>台東</th>\n",
       "      <td>1.350669</td>\n",
       "      <td>0.316783</td>\n",
       "      <td>1.025937</td>\n",
       "    </tr>\n",
       "    <tr>\n",
       "      <th>台北</th>\n",
       "      <td>-0.429988</td>\n",
       "      <td>-0.258107</td>\n",
       "      <td>-0.364039</td>\n",
       "    </tr>\n",
       "    <tr>\n",
       "      <th>宜蘭</th>\n",
       "      <td>0.583290</td>\n",
       "      <td>0.030712</td>\n",
       "      <td>2.456848</td>\n",
       "    </tr>\n",
       "    <tr>\n",
       "      <th>新竹</th>\n",
       "      <td>0.808905</td>\n",
       "      <td>-1.168441</td>\n",
       "      <td>0.085181</td>\n",
       "    </tr>\n",
       "  </tbody>\n",
       "</table>\n",
       "</div>"
      ],
      "text/plain": [
       "           b         g         h\n",
       "台東  1.350669  0.316783  1.025937\n",
       "台北 -0.429988 -0.258107 -0.364039\n",
       "宜蘭  0.583290  0.030712  2.456848\n",
       "新竹  0.808905 -1.168441  0.085181"
      ]
     },
     "execution_count": 7,
     "metadata": {},
     "output_type": "execute_result"
    }
   ],
   "source": [
    "import pandas as pd\n",
    "import numpy as np\n",
    "\n",
    "frame=pd.DataFrame(data=np.random.randn(4,3),\n",
    "                   columns=['b','g','h'],\n",
    "                   index=[\"台東\",\"台北\",\"宜蘭\",\"新竹\"])\n",
    "frame"
   ]
  },
  {
   "cell_type": "code",
   "execution_count": 8,
   "metadata": {},
   "outputs": [
    {
     "data": {
      "text/plain": [
       "b    0.578219\n",
       "g   -0.269763\n",
       "h    0.800982\n",
       "dtype: float64"
      ]
     },
     "metadata": {},
     "output_type": "display_data"
    },
    {
     "data": {
      "text/plain": [
       "台東    0.897797\n",
       "台北   -0.350711\n",
       "宜蘭    1.023617\n",
       "新竹   -0.091452\n",
       "dtype: float64"
      ]
     },
     "metadata": {},
     "output_type": "display_data"
    }
   ],
   "source": [
    "display(np.mean(frame,axis=0))\n",
    "display(np.mean(frame,axis=1))"
   ]
  },
  {
   "cell_type": "code",
   "execution_count": 9,
   "metadata": {},
   "outputs": [
    {
     "data": {
      "text/plain": [
       "b    0.578219\n",
       "g   -0.269763\n",
       "h    0.800982\n",
       "dtype: float64"
      ]
     },
     "metadata": {},
     "output_type": "display_data"
    },
    {
     "data": {
      "text/plain": [
       "台東    0.897797\n",
       "台北   -0.350711\n",
       "宜蘭    1.023617\n",
       "新竹   -0.091452\n",
       "dtype: float64"
      ]
     },
     "metadata": {},
     "output_type": "display_data"
    }
   ],
   "source": [
    "#dataFrame.mean()\n",
    "display(frame.mean())\n",
    "display(frame.mean(axis=1))"
   ]
  },
  {
   "cell_type": "code",
   "execution_count": 10,
   "metadata": {},
   "outputs": [
    {
     "data": {
      "text/plain": [
       "-0.35071100148422185"
      ]
     },
     "execution_count": 10,
     "metadata": {},
     "output_type": "execute_result"
    }
   ],
   "source": [
    "frame.loc['台北'].mean()"
   ]
  },
  {
   "cell_type": "code",
   "execution_count": 11,
   "metadata": {},
   "outputs": [
    {
     "data": {
      "text/plain": [
       "-0.35071100148422185"
      ]
     },
     "execution_count": 11,
     "metadata": {},
     "output_type": "execute_result"
    }
   ],
   "source": [
    "np.mean(frame.loc['台北'])"
   ]
  },
  {
   "cell_type": "code",
   "execution_count": null,
   "metadata": {},
   "outputs": [],
   "source": []
  }
 ],
 "metadata": {
  "kernelspec": {
   "display_name": "Python 3",
   "language": "python",
   "name": "python3"
  },
  "language_info": {
   "codemirror_mode": {
    "name": "ipython",
    "version": 3
   },
   "file_extension": ".py",
   "mimetype": "text/x-python",
   "name": "python",
   "nbconvert_exporter": "python",
   "pygments_lexer": "ipython3",
   "version": "3.10.12"
  },
  "orig_nbformat": 4
 },
 "nbformat": 4,
 "nbformat_minor": 2
}
