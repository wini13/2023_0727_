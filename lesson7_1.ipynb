{
 "cells": [
  {
   "cell_type": "code",
   "execution_count": 1,
   "metadata": {},
   "outputs": [
    {
     "name": "stdout",
     "output_type": "stream",
     "text": [
      "quake\n"
     ]
    }
   ],
   "source": [
    "#沒有參數，沒有傳出值的function\n",
    "def make_sound():\n",
    "    print(\"quake\")\n",
    "make_sound()"
   ]
  },
  {
   "cell_type": "code",
   "execution_count": 3,
   "metadata": {},
   "outputs": [
    {
     "name": "stdout",
     "output_type": "stream",
     "text": [
      "3+8=11\n",
      "3*8=24\n"
     ]
    }
   ],
   "source": [
    "def add(first,second):\n",
    "    print(f\"{first}+{second}={first+second}\")\n",
    "\n",
    "def multiple(first,second):\n",
    "    print(f\"{first}*{second}={first*second}\")\n",
    "\n",
    "add(3,8)\n",
    "multiple(3,8)"
   ]
  }
 ],
 "metadata": {
  "kernelspec": {
   "display_name": "Python 3",
   "language": "python",
   "name": "python3"
  },
  "language_info": {
   "codemirror_mode": {
    "name": "ipython",
    "version": 3
   },
   "file_extension": ".py",
   "mimetype": "text/x-python",
   "name": "python",
   "nbconvert_exporter": "python",
   "pygments_lexer": "ipython3",
   "version": "3.10.12"
  },
  "orig_nbformat": 4
 },
 "nbformat": 4,
 "nbformat_minor": 2
}
