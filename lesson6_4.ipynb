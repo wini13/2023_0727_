{
 "cells": [
  {
   "cell_type": "code",
   "execution_count": 1,
   "metadata": {},
   "outputs": [
    {
     "name": "stdout",
     "output_type": "stream",
     "text": [
      "繼續遊戲\n",
      "繼續遊戲\n",
      "繼續遊戲\n",
      "遊戲結束\n"
     ]
    }
   ],
   "source": [
    "while True:\n",
    "    again = input(\"您還要繼續遊戲嗎?(y or n):\")\n",
    "    if again == 'n':\n",
    "        break\n",
    "    else:\n",
    "        print(\"繼續遊戲\")\n",
    "\n",
    "print(\"遊戲結束\")"
   ]
  },
  {
   "cell_type": "code",
   "execution_count": 3,
   "metadata": {},
   "outputs": [
    {
     "name": "stdout",
     "output_type": "stream",
     "text": [
      "=======猜數字遊戲=======\n",
      "太小\n",
      "您已經猜了1次\n",
      "太大\n",
      "您已經猜了2次\n",
      "太小\n",
      "您已經猜了3次\n",
      "賓果!猜對了, 答案是:50\n",
      "您總共猜了4次\n",
      "遊戲結束\n"
     ]
    }
   ],
   "source": [
    "import random\n",
    "min = 1\n",
    "max = 100\n",
    "count = 0\n",
    "target = random.randint(min,max)\n",
    "print(\"=======猜數字遊戲=======\")\n",
    "while True:    \n",
    "    key = int(input(f\"猜數字的範圍{min}~{max}:\"))\n",
    "    count += 1\n",
    "    if key >= min and key <= max:\n",
    "        if(key == target):\n",
    "            print(f\"賓果!猜對了, 答案是:{key}\")\n",
    "            print(f\"您總共猜了{count}次\")\n",
    "            break\n",
    "        elif(key<target):\n",
    "            print(\"太小\")\n",
    "            print(f\"您已經猜了{count}次\")\n",
    "            min=key+1\n",
    "        elif(key>target):\n",
    "            print(\"太大\")\n",
    "            print(f\"您已經猜了{count}次\")\n",
    "            max=key-1\n",
    "    else:\n",
    "        print(\"超出範圍\")\n",
    "while True:\n",
    "    again = input(\"您還要繼續遊戲嗎?(y or n):\")\n",
    "    if again == 'n':\n",
    "        break\n",
    "    else:\n",
    "        continue\n",
    "\n",
    "print(\"遊戲結束\")\n",
    "    "
   ]
  }
 ],
 "metadata": {
  "kernelspec": {
   "display_name": "Python 3",
   "language": "python",
   "name": "python3"
  },
  "language_info": {
   "codemirror_mode": {
    "name": "ipython",
    "version": 3
   },
   "file_extension": ".py",
   "mimetype": "text/x-python",
   "name": "python",
   "nbconvert_exporter": "python",
   "pygments_lexer": "ipython3",
   "version": "3.10.12"
  },
  "orig_nbformat": 4
 },
 "nbformat": 4,
 "nbformat_minor": 2
}
