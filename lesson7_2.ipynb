{
 "cells": [
  {
   "cell_type": "code",
   "execution_count": 1,
   "metadata": {},
   "outputs": [],
   "source": [
    "#參數的沒有default值\n",
    "def scores(chinese, english, math):\n",
    "    print(f\"國文:{chinese},英文:{english},數學:{math}\")"
   ]
  },
  {
   "cell_type": "code",
   "execution_count": 2,
   "metadata": {},
   "outputs": [
    {
     "name": "stdout",
     "output_type": "stream",
     "text": [
      "國文:78,英文:89,數學:92\n",
      "國文:89,英文:92,數學:73\n"
     ]
    }
   ],
   "source": [
    "scores(78,89,math=92)\n",
    "scores(89, 92, 73)"
   ]
  },
  {
   "cell_type": "code",
   "execution_count": 8,
   "metadata": {},
   "outputs": [
    {
     "name": "stdout",
     "output_type": "stream",
     "text": [
      "國文:89,英文:60,數學:60\n",
      "國文:90,英文:60,數學:100\n",
      "國文:67,英文:89,數學:13\n"
     ]
    }
   ],
   "source": [
    "def score1(chinese,english=60,math=60):\n",
    "    print(f\"國文:{chinese},英文:{english},數學:{math}\")\n",
    "\n",
    "score1(89)\n",
    "score1(90,math=100)\n",
    "score1(67,english=89,math=13)"
   ]
  },
  {
   "cell_type": "code",
   "execution_count": 13,
   "metadata": {},
   "outputs": [
    {
     "name": "stdout",
     "output_type": "stream",
     "text": [
      "23到63的質數是:\n",
      "2 3 5 7 11 13 17 19 23 29 31 37 41 43 47 53 59 61 "
     ]
    }
   ],
   "source": [
    "def print_prime(first,end):\n",
    "    if first<2:\n",
    "        first=2\n",
    "    print(f\"{first}到{end}的質數是:\")\n",
    "    for num in range(2,end+1):\n",
    "        is_prime = True\n",
    "        for i in range(2,num):\n",
    "            if num % i == 0:\n",
    "                is_prime = False\n",
    "\n",
    "        if is_prime:\n",
    "            print(f\"{num}\",end=\" \")\n",
    "f=int(input(\"請輸入first值:\"))\n",
    "e=int(input(\"請輸入end值:\"))\n",
    "print_prime(f,e)"
   ]
  }
 ],
 "metadata": {
  "kernelspec": {
   "display_name": "Python 3",
   "language": "python",
   "name": "python3"
  },
  "language_info": {
   "codemirror_mode": {
    "name": "ipython",
    "version": 3
   },
   "file_extension": ".py",
   "mimetype": "text/x-python",
   "name": "python",
   "nbconvert_exporter": "python",
   "pygments_lexer": "ipython3",
   "version": "3.10.12"
  },
  "orig_nbformat": 4
 },
 "nbformat": 4,
 "nbformat_minor": 2
}
